{
 "cells": [
  {
   "cell_type": "code",
   "execution_count": 1,
   "metadata": {
    "ExecuteTime": {
     "end_time": "2020-06-28T20:31:04.517368Z",
     "start_time": "2020-06-28T20:31:03.534047Z"
    }
   },
   "outputs": [],
   "source": [
    "import pandas as pd\n",
    "import itertools\n",
    "import matplotlib.pyplot as plt\n",
    "import networkx as nx\n",
    "import numpy as np\n",
    "\n",
    "%matplotlib inline"
   ]
  },
  {
   "cell_type": "code",
   "execution_count": 2,
   "metadata": {
    "ExecuteTime": {
     "end_time": "2020-06-28T20:31:04.825649Z",
     "start_time": "2020-06-28T20:31:04.519360Z"
    }
   },
   "outputs": [],
   "source": [
    "df = pd.read_excel('Drug_Risk.xls')"
   ]
  },
  {
   "cell_type": "code",
   "execution_count": 3,
   "metadata": {
    "ExecuteTime": {
     "end_time": "2020-06-28T20:31:04.853337Z",
     "start_time": "2020-06-28T20:31:04.826649Z"
    }
   },
   "outputs": [
    {
     "data": {
      "text/html": [
       "<div>\n",
       "<style scoped>\n",
       "    .dataframe tbody tr th:only-of-type {\n",
       "        vertical-align: middle;\n",
       "    }\n",
       "\n",
       "    .dataframe tbody tr th {\n",
       "        vertical-align: top;\n",
       "    }\n",
       "\n",
       "    .dataframe thead th {\n",
       "        text-align: right;\n",
       "    }\n",
       "</style>\n",
       "<table border=\"1\" class=\"dataframe\">\n",
       "  <thead>\n",
       "    <tr style=\"text-align: right;\">\n",
       "      <th></th>\n",
       "      <th>ID</th>\n",
       "      <th>Age</th>\n",
       "      <th>Gender</th>\n",
       "      <th>Education</th>\n",
       "      <th>Country</th>\n",
       "      <th>Ethnicity</th>\n",
       "      <th>Nscore</th>\n",
       "      <th>Escore</th>\n",
       "      <th>Oscore</th>\n",
       "      <th>Ascore</th>\n",
       "      <th>...</th>\n",
       "      <th>Ecstasy</th>\n",
       "      <th>Heroin</th>\n",
       "      <th>Ketamine</th>\n",
       "      <th>Legalh</th>\n",
       "      <th>LSD</th>\n",
       "      <th>Meth</th>\n",
       "      <th>Shrooms</th>\n",
       "      <th>Nicotine</th>\n",
       "      <th>Semer</th>\n",
       "      <th>VSA</th>\n",
       "    </tr>\n",
       "  </thead>\n",
       "  <tbody>\n",
       "    <tr>\n",
       "      <th>1880</th>\n",
       "      <td>1884</td>\n",
       "      <td>-0.95197</td>\n",
       "      <td>0.48246</td>\n",
       "      <td>-0.61113</td>\n",
       "      <td>-0.57009</td>\n",
       "      <td>-0.31685</td>\n",
       "      <td>-1.19430</td>\n",
       "      <td>1.74091</td>\n",
       "      <td>1.88511</td>\n",
       "      <td>0.76096</td>\n",
       "      <td>...</td>\n",
       "      <td>CL0</td>\n",
       "      <td>CL0</td>\n",
       "      <td>CL0</td>\n",
       "      <td>CL3</td>\n",
       "      <td>CL3</td>\n",
       "      <td>CL0</td>\n",
       "      <td>CL0</td>\n",
       "      <td>CL0</td>\n",
       "      <td>CL0</td>\n",
       "      <td>CL5</td>\n",
       "    </tr>\n",
       "    <tr>\n",
       "      <th>1881</th>\n",
       "      <td>1885</td>\n",
       "      <td>-0.95197</td>\n",
       "      <td>-0.48246</td>\n",
       "      <td>-0.61113</td>\n",
       "      <td>-0.57009</td>\n",
       "      <td>-0.31685</td>\n",
       "      <td>-0.24649</td>\n",
       "      <td>1.74091</td>\n",
       "      <td>0.58331</td>\n",
       "      <td>0.76096</td>\n",
       "      <td>...</td>\n",
       "      <td>CL2</td>\n",
       "      <td>CL0</td>\n",
       "      <td>CL0</td>\n",
       "      <td>CL3</td>\n",
       "      <td>CL5</td>\n",
       "      <td>CL4</td>\n",
       "      <td>CL4</td>\n",
       "      <td>CL5</td>\n",
       "      <td>CL0</td>\n",
       "      <td>CL0</td>\n",
       "    </tr>\n",
       "    <tr>\n",
       "      <th>1882</th>\n",
       "      <td>1886</td>\n",
       "      <td>-0.07854</td>\n",
       "      <td>0.48246</td>\n",
       "      <td>0.45468</td>\n",
       "      <td>-0.57009</td>\n",
       "      <td>-0.31685</td>\n",
       "      <td>1.13281</td>\n",
       "      <td>-1.37639</td>\n",
       "      <td>-1.27553</td>\n",
       "      <td>-1.77200</td>\n",
       "      <td>...</td>\n",
       "      <td>CL4</td>\n",
       "      <td>CL0</td>\n",
       "      <td>CL2</td>\n",
       "      <td>CL0</td>\n",
       "      <td>CL2</td>\n",
       "      <td>CL0</td>\n",
       "      <td>CL2</td>\n",
       "      <td>CL6</td>\n",
       "      <td>CL0</td>\n",
       "      <td>CL0</td>\n",
       "    </tr>\n",
       "    <tr>\n",
       "      <th>1883</th>\n",
       "      <td>1887</td>\n",
       "      <td>-0.95197</td>\n",
       "      <td>0.48246</td>\n",
       "      <td>-0.61113</td>\n",
       "      <td>-0.57009</td>\n",
       "      <td>-0.31685</td>\n",
       "      <td>0.91093</td>\n",
       "      <td>-1.92173</td>\n",
       "      <td>0.29338</td>\n",
       "      <td>-1.62090</td>\n",
       "      <td>...</td>\n",
       "      <td>CL3</td>\n",
       "      <td>CL0</td>\n",
       "      <td>CL0</td>\n",
       "      <td>CL3</td>\n",
       "      <td>CL3</td>\n",
       "      <td>CL0</td>\n",
       "      <td>CL3</td>\n",
       "      <td>CL4</td>\n",
       "      <td>CL0</td>\n",
       "      <td>CL0</td>\n",
       "    </tr>\n",
       "    <tr>\n",
       "      <th>1884</th>\n",
       "      <td>1888</td>\n",
       "      <td>-0.95197</td>\n",
       "      <td>-0.48246</td>\n",
       "      <td>-0.61113</td>\n",
       "      <td>0.21128</td>\n",
       "      <td>-0.31685</td>\n",
       "      <td>-0.46725</td>\n",
       "      <td>2.12700</td>\n",
       "      <td>1.65653</td>\n",
       "      <td>1.11406</td>\n",
       "      <td>...</td>\n",
       "      <td>CL3</td>\n",
       "      <td>CL0</td>\n",
       "      <td>CL0</td>\n",
       "      <td>CL3</td>\n",
       "      <td>CL3</td>\n",
       "      <td>CL0</td>\n",
       "      <td>CL3</td>\n",
       "      <td>CL6</td>\n",
       "      <td>CL0</td>\n",
       "      <td>CL2</td>\n",
       "    </tr>\n",
       "  </tbody>\n",
       "</table>\n",
       "<p>5 rows × 32 columns</p>\n",
       "</div>"
      ],
      "text/plain": [
       "        ID      Age   Gender  Education  Country  Ethnicity   Nscore   Escore  \\\n",
       "1880  1884 -0.95197  0.48246   -0.61113 -0.57009   -0.31685 -1.19430  1.74091   \n",
       "1881  1885 -0.95197 -0.48246   -0.61113 -0.57009   -0.31685 -0.24649  1.74091   \n",
       "1882  1886 -0.07854  0.48246    0.45468 -0.57009   -0.31685  1.13281 -1.37639   \n",
       "1883  1887 -0.95197  0.48246   -0.61113 -0.57009   -0.31685  0.91093 -1.92173   \n",
       "1884  1888 -0.95197 -0.48246   -0.61113  0.21128   -0.31685 -0.46725  2.12700   \n",
       "\n",
       "       Oscore   Ascore  ...  Ecstasy  Heroin  Ketamine Legalh  LSD Meth  \\\n",
       "1880  1.88511  0.76096  ...      CL0     CL0       CL0    CL3  CL3  CL0   \n",
       "1881  0.58331  0.76096  ...      CL2     CL0       CL0    CL3  CL5  CL4   \n",
       "1882 -1.27553 -1.77200  ...      CL4     CL0       CL2    CL0  CL2  CL0   \n",
       "1883  0.29338 -1.62090  ...      CL3     CL0       CL0    CL3  CL3  CL0   \n",
       "1884  1.65653  1.11406  ...      CL3     CL0       CL0    CL3  CL3  CL0   \n",
       "\n",
       "     Shrooms Nicotine Semer  VSA  \n",
       "1880     CL0      CL0   CL0  CL5  \n",
       "1881     CL4      CL5   CL0  CL0  \n",
       "1882     CL2      CL6   CL0  CL0  \n",
       "1883     CL3      CL4   CL0  CL0  \n",
       "1884     CL3      CL6   CL0  CL2  \n",
       "\n",
       "[5 rows x 32 columns]"
      ]
     },
     "execution_count": 3,
     "metadata": {},
     "output_type": "execute_result"
    }
   ],
   "source": [
    "df.tail()"
   ]
  },
  {
   "cell_type": "code",
   "execution_count": 4,
   "metadata": {
    "ExecuteTime": {
     "end_time": "2020-06-28T20:31:04.879361Z",
     "start_time": "2020-06-28T20:31:04.855339Z"
    }
   },
   "outputs": [
    {
     "data": {
      "text/html": [
       "<div>\n",
       "<style scoped>\n",
       "    .dataframe tbody tr th:only-of-type {\n",
       "        vertical-align: middle;\n",
       "    }\n",
       "\n",
       "    .dataframe tbody tr th {\n",
       "        vertical-align: top;\n",
       "    }\n",
       "\n",
       "    .dataframe thead th {\n",
       "        text-align: right;\n",
       "    }\n",
       "</style>\n",
       "<table border=\"1\" class=\"dataframe\">\n",
       "  <thead>\n",
       "    <tr style=\"text-align: right;\">\n",
       "      <th></th>\n",
       "      <th>ID</th>\n",
       "      <th>Age</th>\n",
       "      <th>Gender</th>\n",
       "      <th>Education</th>\n",
       "      <th>Country</th>\n",
       "      <th>Ethnicity</th>\n",
       "      <th>Nscore</th>\n",
       "      <th>Escore</th>\n",
       "      <th>Oscore</th>\n",
       "      <th>Ascore</th>\n",
       "      <th>...</th>\n",
       "      <th>Ecstasy</th>\n",
       "      <th>Heroin</th>\n",
       "      <th>Ketamine</th>\n",
       "      <th>Legalh</th>\n",
       "      <th>LSD</th>\n",
       "      <th>Meth</th>\n",
       "      <th>Shrooms</th>\n",
       "      <th>Nicotine</th>\n",
       "      <th>Semer</th>\n",
       "      <th>VSA</th>\n",
       "    </tr>\n",
       "  </thead>\n",
       "  <tbody>\n",
       "    <tr>\n",
       "      <th>727</th>\n",
       "      <td>730</td>\n",
       "      <td>-0.07854</td>\n",
       "      <td>0.48246</td>\n",
       "      <td>-1.73790</td>\n",
       "      <td>-0.09765</td>\n",
       "      <td>-0.31685</td>\n",
       "      <td>-0.58016</td>\n",
       "      <td>0.32197</td>\n",
       "      <td>0.14143</td>\n",
       "      <td>-0.60633</td>\n",
       "      <td>...</td>\n",
       "      <td>CL2</td>\n",
       "      <td>CL2</td>\n",
       "      <td>CL2</td>\n",
       "      <td>CL0</td>\n",
       "      <td>CL4</td>\n",
       "      <td>CL2</td>\n",
       "      <td>CL6</td>\n",
       "      <td>CL6</td>\n",
       "      <td>CL2</td>\n",
       "      <td>CL2</td>\n",
       "    </tr>\n",
       "    <tr>\n",
       "      <th>817</th>\n",
       "      <td>821</td>\n",
       "      <td>-0.95197</td>\n",
       "      <td>-0.48246</td>\n",
       "      <td>-0.61113</td>\n",
       "      <td>-0.09765</td>\n",
       "      <td>-0.50212</td>\n",
       "      <td>-0.67825</td>\n",
       "      <td>1.74091</td>\n",
       "      <td>0.72330</td>\n",
       "      <td>0.13136</td>\n",
       "      <td>...</td>\n",
       "      <td>CL3</td>\n",
       "      <td>CL0</td>\n",
       "      <td>CL0</td>\n",
       "      <td>CL0</td>\n",
       "      <td>CL5</td>\n",
       "      <td>CL0</td>\n",
       "      <td>CL5</td>\n",
       "      <td>CL4</td>\n",
       "      <td>CL3</td>\n",
       "      <td>CL0</td>\n",
       "    </tr>\n",
       "    <tr>\n",
       "      <th>1516</th>\n",
       "      <td>1520</td>\n",
       "      <td>-0.95197</td>\n",
       "      <td>-0.48246</td>\n",
       "      <td>-0.61113</td>\n",
       "      <td>-0.57009</td>\n",
       "      <td>-0.31685</td>\n",
       "      <td>-0.24649</td>\n",
       "      <td>-0.80615</td>\n",
       "      <td>-1.27553</td>\n",
       "      <td>-1.34289</td>\n",
       "      <td>...</td>\n",
       "      <td>CL1</td>\n",
       "      <td>CL2</td>\n",
       "      <td>CL1</td>\n",
       "      <td>CL2</td>\n",
       "      <td>CL1</td>\n",
       "      <td>CL2</td>\n",
       "      <td>CL4</td>\n",
       "      <td>CL2</td>\n",
       "      <td>CL3</td>\n",
       "      <td>CL1</td>\n",
       "    </tr>\n",
       "    <tr>\n",
       "      <th>1533</th>\n",
       "      <td>1537</td>\n",
       "      <td>-0.95197</td>\n",
       "      <td>0.48246</td>\n",
       "      <td>-0.61113</td>\n",
       "      <td>-0.57009</td>\n",
       "      <td>0.11440</td>\n",
       "      <td>-0.46725</td>\n",
       "      <td>0.80523</td>\n",
       "      <td>0.29338</td>\n",
       "      <td>2.03972</td>\n",
       "      <td>...</td>\n",
       "      <td>CL4</td>\n",
       "      <td>CL0</td>\n",
       "      <td>CL4</td>\n",
       "      <td>CL3</td>\n",
       "      <td>CL2</td>\n",
       "      <td>CL0</td>\n",
       "      <td>CL3</td>\n",
       "      <td>CL4</td>\n",
       "      <td>CL4</td>\n",
       "      <td>CL3</td>\n",
       "    </tr>\n",
       "    <tr>\n",
       "      <th>1698</th>\n",
       "      <td>1702</td>\n",
       "      <td>0.49788</td>\n",
       "      <td>0.48246</td>\n",
       "      <td>0.45468</td>\n",
       "      <td>-0.57009</td>\n",
       "      <td>-0.31685</td>\n",
       "      <td>1.98437</td>\n",
       "      <td>-0.80615</td>\n",
       "      <td>2.15324</td>\n",
       "      <td>0.76096</td>\n",
       "      <td>...</td>\n",
       "      <td>CL2</td>\n",
       "      <td>CL0</td>\n",
       "      <td>CL2</td>\n",
       "      <td>CL2</td>\n",
       "      <td>CL2</td>\n",
       "      <td>CL0</td>\n",
       "      <td>CL2</td>\n",
       "      <td>CL6</td>\n",
       "      <td>CL2</td>\n",
       "      <td>CL0</td>\n",
       "    </tr>\n",
       "    <tr>\n",
       "      <th>1769</th>\n",
       "      <td>1773</td>\n",
       "      <td>-0.95197</td>\n",
       "      <td>-0.48246</td>\n",
       "      <td>-1.22751</td>\n",
       "      <td>-0.57009</td>\n",
       "      <td>-0.22166</td>\n",
       "      <td>-0.34799</td>\n",
       "      <td>1.28610</td>\n",
       "      <td>1.06238</td>\n",
       "      <td>-0.01729</td>\n",
       "      <td>...</td>\n",
       "      <td>CL3</td>\n",
       "      <td>CL0</td>\n",
       "      <td>CL4</td>\n",
       "      <td>CL3</td>\n",
       "      <td>CL6</td>\n",
       "      <td>CL3</td>\n",
       "      <td>CL3</td>\n",
       "      <td>CL3</td>\n",
       "      <td>CL1</td>\n",
       "      <td>CL3</td>\n",
       "    </tr>\n",
       "    <tr>\n",
       "      <th>1806</th>\n",
       "      <td>1810</td>\n",
       "      <td>-0.95197</td>\n",
       "      <td>0.48246</td>\n",
       "      <td>-1.43719</td>\n",
       "      <td>-0.57009</td>\n",
       "      <td>-0.31685</td>\n",
       "      <td>1.23461</td>\n",
       "      <td>1.11406</td>\n",
       "      <td>1.06238</td>\n",
       "      <td>-1.47955</td>\n",
       "      <td>...</td>\n",
       "      <td>CL4</td>\n",
       "      <td>CL2</td>\n",
       "      <td>CL1</td>\n",
       "      <td>CL4</td>\n",
       "      <td>CL1</td>\n",
       "      <td>CL0</td>\n",
       "      <td>CL1</td>\n",
       "      <td>CL6</td>\n",
       "      <td>CL1</td>\n",
       "      <td>CL2</td>\n",
       "    </tr>\n",
       "    <tr>\n",
       "      <th>1823</th>\n",
       "      <td>1827</td>\n",
       "      <td>-0.95197</td>\n",
       "      <td>0.48246</td>\n",
       "      <td>0.45468</td>\n",
       "      <td>-0.57009</td>\n",
       "      <td>-0.31685</td>\n",
       "      <td>0.22393</td>\n",
       "      <td>-0.30033</td>\n",
       "      <td>0.88309</td>\n",
       "      <td>1.28610</td>\n",
       "      <td>...</td>\n",
       "      <td>CL0</td>\n",
       "      <td>CL0</td>\n",
       "      <td>CL0</td>\n",
       "      <td>CL2</td>\n",
       "      <td>CL3</td>\n",
       "      <td>CL0</td>\n",
       "      <td>CL3</td>\n",
       "      <td>CL5</td>\n",
       "      <td>CL2</td>\n",
       "      <td>CL0</td>\n",
       "    </tr>\n",
       "  </tbody>\n",
       "</table>\n",
       "<p>8 rows × 32 columns</p>\n",
       "</div>"
      ],
      "text/plain": [
       "        ID      Age   Gender  Education  Country  Ethnicity   Nscore   Escore  \\\n",
       "727    730 -0.07854  0.48246   -1.73790 -0.09765   -0.31685 -0.58016  0.32197   \n",
       "817    821 -0.95197 -0.48246   -0.61113 -0.09765   -0.50212 -0.67825  1.74091   \n",
       "1516  1520 -0.95197 -0.48246   -0.61113 -0.57009   -0.31685 -0.24649 -0.80615   \n",
       "1533  1537 -0.95197  0.48246   -0.61113 -0.57009    0.11440 -0.46725  0.80523   \n",
       "1698  1702  0.49788  0.48246    0.45468 -0.57009   -0.31685  1.98437 -0.80615   \n",
       "1769  1773 -0.95197 -0.48246   -1.22751 -0.57009   -0.22166 -0.34799  1.28610   \n",
       "1806  1810 -0.95197  0.48246   -1.43719 -0.57009   -0.31685  1.23461  1.11406   \n",
       "1823  1827 -0.95197  0.48246    0.45468 -0.57009   -0.31685  0.22393 -0.30033   \n",
       "\n",
       "       Oscore   Ascore  ...  Ecstasy  Heroin  Ketamine Legalh  LSD Meth  \\\n",
       "727   0.14143 -0.60633  ...      CL2     CL2       CL2    CL0  CL4  CL2   \n",
       "817   0.72330  0.13136  ...      CL3     CL0       CL0    CL0  CL5  CL0   \n",
       "1516 -1.27553 -1.34289  ...      CL1     CL2       CL1    CL2  CL1  CL2   \n",
       "1533  0.29338  2.03972  ...      CL4     CL0       CL4    CL3  CL2  CL0   \n",
       "1698  2.15324  0.76096  ...      CL2     CL0       CL2    CL2  CL2  CL0   \n",
       "1769  1.06238 -0.01729  ...      CL3     CL0       CL4    CL3  CL6  CL3   \n",
       "1806  1.06238 -1.47955  ...      CL4     CL2       CL1    CL4  CL1  CL0   \n",
       "1823  0.88309  1.28610  ...      CL0     CL0       CL0    CL2  CL3  CL0   \n",
       "\n",
       "     Shrooms Nicotine Semer  VSA  \n",
       "727      CL6      CL6   CL2  CL2  \n",
       "817      CL5      CL4   CL3  CL0  \n",
       "1516     CL4      CL2   CL3  CL1  \n",
       "1533     CL3      CL4   CL4  CL3  \n",
       "1698     CL2      CL6   CL2  CL0  \n",
       "1769     CL3      CL3   CL1  CL3  \n",
       "1806     CL1      CL6   CL1  CL2  \n",
       "1823     CL3      CL5   CL2  CL0  \n",
       "\n",
       "[8 rows x 32 columns]"
      ]
     },
     "execution_count": 4,
     "metadata": {},
     "output_type": "execute_result"
    }
   ],
   "source": [
    "df[df.Semer != 'CL0']"
   ]
  },
  {
   "cell_type": "code",
   "execution_count": 5,
   "metadata": {
    "ExecuteTime": {
     "end_time": "2020-06-28T20:31:04.895375Z",
     "start_time": "2020-06-28T20:31:04.880362Z"
    }
   },
   "outputs": [
    {
     "name": "stdout",
     "output_type": "stream",
     "text": [
      "<class 'pandas.core.frame.DataFrame'>\n",
      "RangeIndex: 1885 entries, 0 to 1884\n",
      "Data columns (total 32 columns):\n",
      " #   Column     Non-Null Count  Dtype  \n",
      "---  ------     --------------  -----  \n",
      " 0   ID         1885 non-null   int64  \n",
      " 1   Age        1885 non-null   float64\n",
      " 2   Gender     1885 non-null   float64\n",
      " 3   Education  1885 non-null   float64\n",
      " 4   Country    1885 non-null   float64\n",
      " 5   Ethnicity  1885 non-null   float64\n",
      " 6   Nscore     1885 non-null   float64\n",
      " 7   Escore     1885 non-null   float64\n",
      " 8   Oscore     1885 non-null   float64\n",
      " 9   Ascore     1885 non-null   float64\n",
      " 10  Cscore     1885 non-null   float64\n",
      " 11  Impulsive  1885 non-null   float64\n",
      " 12  SS         1885 non-null   float64\n",
      " 13  Alcohol    1885 non-null   object \n",
      " 14  Amphet     1885 non-null   object \n",
      " 15  Amyl       1885 non-null   object \n",
      " 16  Benzos     1885 non-null   object \n",
      " 17  Caff       1885 non-null   object \n",
      " 18  Cannabis   1885 non-null   object \n",
      " 19  Choc       1885 non-null   object \n",
      " 20  Coke       1885 non-null   object \n",
      " 21  Crack      1885 non-null   object \n",
      " 22  Ecstasy    1885 non-null   object \n",
      " 23  Heroin     1885 non-null   object \n",
      " 24  Ketamine   1885 non-null   object \n",
      " 25  Legalh     1885 non-null   object \n",
      " 26  LSD        1885 non-null   object \n",
      " 27  Meth       1885 non-null   object \n",
      " 28  Shrooms    1885 non-null   object \n",
      " 29  Nicotine   1885 non-null   object \n",
      " 30  Semer      1885 non-null   object \n",
      " 31  VSA        1885 non-null   object \n",
      "dtypes: float64(12), int64(1), object(19)\n",
      "memory usage: 471.4+ KB\n"
     ]
    }
   ],
   "source": [
    "df.info()"
   ]
  },
  {
   "cell_type": "code",
   "execution_count": 6,
   "metadata": {
    "ExecuteTime": {
     "end_time": "2020-06-28T20:31:04.899379Z",
     "start_time": "2020-06-28T20:31:04.896376Z"
    }
   },
   "outputs": [],
   "source": [
    "df.columns = [c.lower() for c in df.columns]"
   ]
  },
  {
   "cell_type": "code",
   "execution_count": 7,
   "metadata": {
    "ExecuteTime": {
     "end_time": "2020-06-28T20:31:04.906385Z",
     "start_time": "2020-06-28T20:31:04.900380Z"
    }
   },
   "outputs": [],
   "source": [
    "dict_age = {'-0.95197': '18-24','-0.07854': '25-34', '0.49788': '35-44','1.09449': '45-54','1.82213': '55-64',\n",
    "            '2.59171': '65+'}\n",
    "\n",
    "dict_sex = {'0.48246':'Female','-0.48246': 'Male'}\n",
    "\n",
    "dict_edu = {'-2.43591': 'left_school','-1.73790': 'left_school','-1.43719': 'left_school_at_17_years',\n",
    "           '-1.22751': 'left_school_at_18 years','-0.61113': 'Some college or university, no certificate or degree',\n",
    "           '-0.05921': 'professional_certificate/ diploma', '0.45468': 'university_degree',\n",
    "           '1.16365': 'masters_degree', '1.98437': 'doctorate_degree'}\n",
    "\n",
    "dict_cou = {'-0.09765': 'Australia', '0.24923': 'Canada', '-0.46841': 'New Zealand', '-0.28519': 'Other',\n",
    "            '0.21128': 'Republic of Ireland','0.96082': 'UK','-0.57009': 'USA'}\n",
    "\n",
    "dict_eth = {'-0.50212':'Asian','-1.10702': 'Black','1.90725': 'Mixed-Black/Asian',\n",
    "            '0.12600': 'Mixed-White/Asian','-0.22166' :'Mixed-White/Black','0.11440': 'Other'\n",
    "            ,'-0.31685': 'White'}"
   ]
  },
  {
   "cell_type": "markdown",
   "metadata": {},
   "source": []
  },
  {
   "cell_type": "code",
   "execution_count": 8,
   "metadata": {
    "ExecuteTime": {
     "end_time": "2020-06-28T20:31:04.929406Z",
     "start_time": "2020-06-28T20:31:04.908387Z"
    }
   },
   "outputs": [],
   "source": [
    "drugs = ['alcohol',\n",
    "       'amphet', 'amyl', 'benzos', 'caff', 'cannabis', 'choc', 'coke', 'crack',\n",
    "       'ecstasy', 'heroin', 'ketamine', 'legalh', 'lsd', 'meth', 'shrooms',\n",
    "       'nicotine', 'semer', 'vsa']\n",
    "\n",
    "for d in drugs:\n",
    "    df[d + '_user'] = [u in ('CL4', 'CL5', 'CL6') for u in df[d]]"
   ]
  },
  {
   "cell_type": "code",
   "execution_count": 9,
   "metadata": {
    "ExecuteTime": {
     "end_time": "2020-06-28T20:31:04.936413Z",
     "start_time": "2020-06-28T20:31:04.930407Z"
    }
   },
   "outputs": [
    {
     "data": {
      "text/plain": [
       "0       False\n",
       "1       False\n",
       "2       False\n",
       "3       False\n",
       "4       False\n",
       "        ...  \n",
       "1880    False\n",
       "1881    False\n",
       "1882     True\n",
       "1883    False\n",
       "1884    False\n",
       "Name: amyl_user, Length: 1885, dtype: bool"
      ]
     },
     "execution_count": 9,
     "metadata": {},
     "output_type": "execute_result"
    }
   ],
   "source": [
    "df.amyl_user"
   ]
  },
  {
   "cell_type": "markdown",
   "metadata": {
    "ExecuteTime": {
     "end_time": "2020-06-26T12:28:06.659935Z",
     "start_time": "2020-06-26T12:28:05.589401Z"
    }
   },
   "source": [
    "Semeron is not real and used for checking if a participant exxegarates his drug habits. It can be dropped."
   ]
  },
  {
   "cell_type": "code",
   "execution_count": 10,
   "metadata": {
    "ExecuteTime": {
     "end_time": "2020-06-28T20:31:04.940416Z",
     "start_time": "2020-06-28T20:31:04.937414Z"
    }
   },
   "outputs": [],
   "source": [
    "drugs.remove('semer')"
   ]
  },
  {
   "cell_type": "code",
   "execution_count": 20,
   "metadata": {
    "ExecuteTime": {
     "end_time": "2020-06-28T20:45:07.531694Z",
     "start_time": "2020-06-28T20:45:07.526690Z"
    }
   },
   "outputs": [],
   "source": [
    "def plot_networkx_graph(G):\n",
    "    pos = nx.spring_layout(G)\n",
    "    nx.draw_networkx_nodes(G, pos, node_size = list(map(int, nx.get_node_attributes(G, 'size').values())) , alpha = 0.5)\n",
    "    nx.draw_networkx_edges(G, pos, width=0.1)\n",
    "    nx.draw_networkx_labels(G, pos, font_size=10, font_family='sans-serif')\n",
    "\n",
    "    plt.axis('off')\n",
    "    plt.savefig('graphs/Drug_Correlations.png')\n",
    "    plt.show()"
   ]
  },
  {
   "cell_type": "code",
   "execution_count": 18,
   "metadata": {
    "ExecuteTime": {
     "end_time": "2020-06-28T20:38:35.883098Z",
     "start_time": "2020-06-28T20:37:14.717043Z"
    }
   },
   "outputs": [],
   "source": [
    "G = nx.Graph()\n",
    "\n",
    "G.add_nodes_from([(drug,dict(size =str(df[drug + '_user'][df[drug + '_user']].count()))) for drug in drugs])\n",
    "weights = {}\n",
    "for _, p in df.iterrows():\n",
    "    for c, b in itertools.combinations(drugs, 2):\n",
    "        weights[c + '_' + b] = sum(df[f'{c}_user'][df[f'{b}_user']])\n",
    "\n",
    "G.add_weighted_edges_from([(key.split('_')[0], key.split('_')[1], weights[key]) for key in weights.keys()])\n"
   ]
  },
  {
   "cell_type": "code",
   "execution_count": 21,
   "metadata": {
    "ExecuteTime": {
     "end_time": "2020-06-28T20:16:46.206117Z",
     "start_time": "2020-06-28T20:16:46.202122Z"
    }
   },
   "outputs": [
    {
     "data": {
      "text/plain": [
       "NodeView((('alcohol', 'size=1551'), ('amphet', 'size=238'), ('amyl', 'size=41'), ('benzos', 'size=299'), ('caff', 'size=1764'), ('cannabis', 'size=788'), ('choc', 'size=1786'), ('coke', 'size=159'), ('crack', 'size=20'), ('ecstasy', 'size=240'), ('heroin', 'size=53'), ('ketamine', 'size=79'), ('legalh', 'size=241'), ('lsd', 'size=166'), ('meth', 'size=171'), ('shrooms', 'size=159'), ('nicotine', 'size=875'), ('vsa', 'size=34'), 'alcohol', 'amphet', 'amyl', 'benzos', 'caff', 'cannabis', 'choc', 'coke', 'crack', 'ecstasy', 'heroin', 'ketamine', 'legalh', 'lsd', 'meth', 'shrooms', 'nicotine', 'vsa', ('alcohol', 'size =1551'), ('amphet', 'size =238'), ('amyl', 'size =41'), ('benzos', 'size =299'), ('caff', 'size =1764'), ('cannabis', 'size =788'), ('choc', 'size =1786'), ('coke', 'size =159'), ('crack', 'size =20'), ('ecstasy', 'size =240'), ('heroin', 'size =53'), ('ketamine', 'size =79'), ('legalh', 'size =241'), ('lsd', 'size =166'), ('meth', 'size =171'), ('shrooms', 'size =159'), ('nicotine', 'size =875'), ('vsa', 'size =34')))"
      ]
     },
     "execution_count": 21,
     "metadata": {},
     "output_type": "execute_result"
    }
   ],
   "source": [
    "G.nodes()"
   ]
  },
  {
   "cell_type": "code",
   "execution_count": 16,
   "metadata": {
    "ExecuteTime": {
     "end_time": "2020-06-28T20:36:45.577146Z",
     "start_time": "2020-06-28T20:36:45.572152Z"
    }
   },
   "outputs": [
    {
     "data": {
      "text/plain": [
       "['1551',\n",
       " '238',\n",
       " '41',\n",
       " '299',\n",
       " '1764',\n",
       " '788',\n",
       " '1786',\n",
       " '159',\n",
       " '20',\n",
       " '240',\n",
       " '53',\n",
       " '79',\n",
       " '241',\n",
       " '166',\n",
       " '171',\n",
       " '159',\n",
       " '875',\n",
       " '34']"
      ]
     },
     "execution_count": 16,
     "metadata": {},
     "output_type": "execute_result"
    }
   ],
   "source": [
    "list(nx.get_node_attributes(G, 'size').values())"
   ]
  },
  {
   "cell_type": "code",
   "execution_count": 21,
   "metadata": {
    "ExecuteTime": {
     "end_time": "2020-06-28T20:45:12.920796Z",
     "start_time": "2020-06-28T20:45:12.664585Z"
    }
   },
   "outputs": [
    {
     "data": {
      "image/png": "[encoded data removed]",
      "text/plain": [
       "<Figure size 432x288 with 1 Axes>"
      ]
     },
     "metadata": {},
     "output_type": "display_data"
    }
   ],
   "source": [
    "plot_networkx_graph(G)"
   ]
  },
  {
   "cell_type": "markdown",
   "metadata": {},
   "source": [
    "Can it be improved? The weight should reflect how strongly the use of one drug correlates with the other. So what rate of the cannabis user also drink coffee and how many coffee drinkers also use cannabis? Calculate the mean of that and use it as weight."
   ]
  },
  {
   "cell_type": "code",
   "execution_count": 24,
   "metadata": {
    "ExecuteTime": {
     "end_time": "2020-06-28T20:46:12.385216Z",
     "start_time": "2020-06-28T20:46:12.286610Z"
    }
   },
   "outputs": [],
   "source": [
    "adjusted_weights = {}\n",
    "for key in weights.keys():\n",
    "    adjusted_weights[key] = weights[key]*(\n",
    "        (1/df[key.split('_')[0] + '_user'][df[key.split('_')[0] + '_user']].count()) # 1/number of users of first part of key\n",
    "        +(1/df[key.split('_')[1] + '_user'][df[key.split('_')[1] + '_user']].count())) # 1/number of users of second part of key\n",
    "    \n",
    "G.add_weighted_edges_from([(key.split('_')[0], key.split('_')[1], adjusted_weights[key]) for key in adjusted_weights.keys()])   "
   ]
  },
  {
   "cell_type": "code",
   "execution_count": 32,
   "metadata": {
    "ExecuteTime": {
     "end_time": "2020-06-28T20:47:43.307115Z",
     "start_time": "2020-06-28T20:47:43.055380Z"
    }
   },
   "outputs": [
    {
     "data": {
      "image/png": "[encoded data removed]",
      "text/plain": [
       "<Figure size 432x288 with 1 Axes>"
      ]
     },
     "metadata": {},
     "output_type": "display_data"
    }
   ],
   "source": [
    "plot_networkx_graph(G)"
   ]
  },
  {
   "cell_type": "code",
   "execution_count": 14,
   "metadata": {
    "ExecuteTime": {
     "end_time": "2020-06-28T20:35:37.401456Z",
     "start_time": "2020-06-28T20:35:37.396449Z"
    }
   },
   "outputs": [
    {
     "data": {
      "text/plain": [
       "788"
      ]
     },
     "execution_count": 14,
     "metadata": {},
     "output_type": "execute_result"
    }
   ],
   "source": [
    "df.cannabis_user[df['cannabis_user']].count()"
   ]
  },
  {
   "cell_type": "code",
   "execution_count": null,
   "metadata": {},
   "outputs": [],
   "source": []
  }
 ],
 "metadata": {
  "kernelspec": {
   "display_name": "Python 3",
   "language": "python",
   "name": "python3"
  },
  "language_info": {
   "codemirror_mode": {
    "name": "ipython",
    "version": 3
   },
   "file_extension": ".py",
   "mimetype": "text/x-python",
   "name": "python",
   "nbconvert_exporter": "python",
   "pygments_lexer": "ipython3",
   "version": "3.7.6"
  },
  "latex_envs": {
   "LaTeX_envs_menu_present": true,
   "autoclose": false,
   "autocomplete": true,
   "bibliofile": "biblio.bib",
   "cite_by": "apalike",
   "current_citInitial": 1,
   "eqLabelWithNumbers": true,
   "eqNumInitial": 1,
   "hotkeys": {
    "equation": "Ctrl-E",
    "itemize": "Ctrl-I"
   },
   "labels_anchors": false,
   "latex_user_defs": false,
   "report_style_numbering": false,
   "user_envs_cfg": false
  },
  "toc": {
   "base_numbering": 1,
   "nav_menu": {},
   "number_sections": true,
   "sideBar": true,
   "skip_h1_title": false,
   "title_cell": "Table of Contents",
   "title_sidebar": "Contents",
   "toc_cell": false,
   "toc_position": {},
   "toc_section_display": true,
   "toc_window_display": false
  },
  "varInspector": {
   "cols": {
    "lenName": 16,
    "lenType": 16,
    "lenVar": 40
   },
   "kernels_config": {
    "python": {
     "delete_cmd_postfix": "",
     "delete_cmd_prefix": "del ",
     "library": "var_list.py",
     "varRefreshCmd": "print(var_dic_list())"
    },
    "r": {
     "delete_cmd_postfix": ") ",
     "delete_cmd_prefix": "rm(",
     "library": "var_list.r",
     "varRefreshCmd": "cat(var_dic_list()) "
    }
   },
   "types_to_exclude": [
    "module",
    "function",
    "builtin_function_or_method",
    "instance",
    "_Feature"
   ],
   "window_display": false
  }
 },
 "nbformat": 4,
 "nbformat_minor": 4
}
